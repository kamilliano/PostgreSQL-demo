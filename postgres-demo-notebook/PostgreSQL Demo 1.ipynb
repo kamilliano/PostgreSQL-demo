{
 "cells": [
  {
   "cell_type": "markdown",
   "metadata": {},
   "source": [
    "## In this Demo 1 notebook we will explore:\n",
    "    \n",
    "    - how to create a connection to PostgreSQL\n",
    "    - basic CRUD operations, mnemonic for:\n",
    "        - Create tables\n",
    "        - Read tables\n",
    "        - Update tables\n",
    "        - Delete tables\n",
    "    - table Joins"
   ]
  },
  {
   "cell_type": "code",
   "execution_count": null,
   "metadata": {},
   "outputs": [],
   "source": [
    "import os\n",
    "import psycopg2\n",
    "import sqlalchemy\n",
    "import pprint as pp"
   ]
  },
  {
   "cell_type": "markdown",
   "metadata": {},
   "source": [
    "### Create a connection to PostgreSQL\n",
    "\n",
    "To make a connection we use SQLAlchemy's `create_engine` call to create a new `engine` instance through which we will make calls to our database application programming interface (DB API).\n",
    "\n",
    "See the details on how SQLAlchemy interacts with DB API: <a href=\"https://docs.sqlalchemy.org/en/13/core/engines.html\" target=\"_blank\">SQLAlchemy engines</a>\n",
    "\n",
    "__Note__: we use `postgresql` to tells SQLAlchemy to specify DB type and `psycopg2` noun explicity. `pscopg2` is an adapter that let's us make calls specifically to PostgreSQL."
   ]
  },
  {
   "cell_type": "code",
   "execution_count": null,
   "metadata": {},
   "outputs": [],
   "source": [
    "# get settings from env variables that were passed around from makefile to docker-compose\n",
    "SQL_PORT=os.environ['POSTGRES_PORT']\n",
    "SQL_DB=os.environ['POSTGRES_DB']\n",
    "SQL_USER=os.environ['POSTGRES_USER'] \n",
    "SQL_PASSWORD=os.environ['POSTGRES_PASSWORD']\n",
    "SQL_SERVICE_NAME='postgres'\n",
    "\n",
    "# create an engine that will allow us to communicate with PostgresSQL containerised server\n",
    "engine = sqlalchemy.create_engine(f'postgresql+psycopg2://{SQL_USER}:{SQL_PASSWORD}@{SQL_SERVICE_NAME}/{SQL_DB}')"
   ]
  },
  {
   "cell_type": "code",
   "execution_count": null,
   "metadata": {},
   "outputs": [],
   "source": [
    "# just list our existing tablenames, on first run this should be empty, so check if that is the case\n",
    "engine.table_names()"
   ]
  },
  {
   "cell_type": "markdown",
   "metadata": {},
   "source": [
    "### Python helpers\n",
    "\n",
    "__NOTE__: I wanted to make these example as simple as possible. However, I used SQLAlchemy library to manage interaction with PostreSQL server which might be slightly excessive. Nonetheless, I wanted to introduce it now so we can return to it in future demos when we begin writing more declarative code. \n",
    "\n",
    "The following Python functions simplify our interaction with PostgreSQL:"
   ]
  },
  {
   "cell_type": "code",
   "execution_count": null,
   "metadata": {},
   "outputs": [],
   "source": [
    "# define helper functions that wrap our SQL statements\n",
    "\n",
    "def execute_sql_statement(sql_statement):\n",
    "    \"\"\"Helper to execute sql statements like Inserts, Deletes, Updates that we don't \n",
    "        need any feedback for this demo\n",
    "    \"\"\"\n",
    "    with engine.connect() as connection:\n",
    "        try:\n",
    "            connection.execute(sql_statement)\n",
    "        except Exception as e:\n",
    "            print(e)\n",
    "\n",
    "def get_header_rows(select_sql_statement):\n",
    "    \"\"\"Helper to execute select statements and bring back data\n",
    "    \"\"\"\n",
    "    header = rows = None\n",
    "    \n",
    "    with engine.connect() as connection:\n",
    "        ResultProxy = connection.execute(select_sql_statement)\n",
    "        header = ResultProxy.keys()\n",
    "        rows =  ResultProxy.fetchall()\n",
    "    return header, rows"
   ]
  },
  {
   "cell_type": "markdown",
   "metadata": {},
   "source": [
    "### DROP & CREATE table\n",
    "Let us create our first SQL table called `countries` to which we will add some data.\n",
    "\n",
    "First we will want to make sure `countries` table does not exits so we will first run a SQL statement: \n",
    "\n",
    "    DROP TABLE IF EXISTS countries;\n",
    "\n",
    "The `DROP` statement will instruct SQL server to find and delete `countries` table `IF` it `EXISTS`. \n",
    "\n",
    "Now to create a new `countries` table we will be executing a statement:\n",
    "\n",
    "    CREATE TABLE countries (\n",
    "        country_code char(2) PRIMARY KEY,\n",
    "        currency_code char(3),\n",
    "        country_name text UNIQUE\n",
    "    );\n",
    "\n",
    "\n",
    "The above Schema defining a `countries` table instructs SQL server to create a column `country_code` that can accept a row value constrained to two characters and three characters for `currency_code`. `text` means that `country_name` can have any length, however, the `UNIQUE` constraint prevents  duplicate entries (see documentation for more https://www.postgresql.org/docs/9.1/datatype-character.html)\n",
    "\n",
    "\n",
    "`PRIMARY KEY` is a unique, non-null, row identifier and will be a lookup for that table. I will revisit primary keys in the next demo when we introduce a concept of SQL `index`.\n",
    "\n",
    "\n",
    "__NOTE__: SQL statement formatting does not matter during execution but it still should be formatted for maximum readability. The SQL clauses do not need capitalisation, however, it is a convention intended improved readability. \n",
    "\n",
    "\n",
    "These instructions can be executed in Python as follwing:"
   ]
  },
  {
   "cell_type": "code",
   "execution_count": null,
   "metadata": {},
   "outputs": [],
   "source": [
    "# create `countries` table\n",
    "insert_countries_table = \"\"\"\n",
    "DROP TABLE IF EXISTS countries;\n",
    "\n",
    "CREATE TABLE countries (\n",
    "    country_code char(2) PRIMARY KEY,\n",
    "    currency_code char(3),\n",
    "    country_name text UNIQUE\n",
    ");\n",
    "\"\"\"\n",
    "execute_sql_statement(insert_countries_table)\n",
    "\n",
    "engine.table_names()"
   ]
  },
  {
   "cell_type": "markdown",
   "metadata": {},
   "source": [
    "### INSERT INTO table\n",
    "\n",
    "Now given we have a table with specified schema, we can add few entries. \n",
    "\n",
    "The following statement instructs SQL server to add 5 rows:\n",
    "```\n",
    "INSERT INTO countries \n",
    "    (country_code, currency_code, country_name) \n",
    "VALUES \n",
    "    ('US', 'USD', 'United States'), \n",
    "    ('GB', 'GBP', 'United Kindgodm'), \n",
    "    ('FR', 'EUR', 'France'),\n",
    "    ('NG', 'NGN', 'Nigeria'), \n",
    "    ('AT','ATX','Atlantida');\n",
    "```"
   ]
  },
  {
   "cell_type": "code",
   "execution_count": null,
   "metadata": {},
   "outputs": [],
   "source": [
    "\n",
    "# Lets create some entries into the countries table with the following SQL insert statment\n",
    "# Note that we are conforming ourselves to the defined data schema \n",
    "insert_countries_data = \"\"\"\n",
    "INSERT INTO countries \n",
    "    (country_code, currency_code, country_name) \n",
    "VALUES \n",
    "    ('US', 'USD', 'United States'), \n",
    "    ('GB', 'GBP', 'United Kindgodm'), \n",
    "    ('FR', 'EUR', 'France'),\n",
    "    ('NG', 'NGN', 'Nigeria'), \n",
    "    ('AT','ATX','Atlantida');\n",
    "\"\"\"\n",
    "execute_sql_statement(insert_countries_data)"
   ]
  },
  {
   "cell_type": "markdown",
   "metadata": {},
   "source": [
    "### SELECT * FROM table\n",
    "\n",
    "Now we would like to inspect if the data has been stored. We can __Read__ all rows for all columns from the `countries` table by calling:\n",
    "\n",
    "    SELECT * FROM countries;\n",
    "    \n",
    "What the above statement says: \"read all, denoted by __*__, rows from countries table\". \n",
    "\n",
    "__Note__: usually when you have larger tables it is wise to select few columns and use a __LIMIT__ statement if you just want to inspect the data. For example:\n",
    "    \n",
    "    SELECT col1, col2, col7 FROM table_name LIMIT 20;\n",
    "    \n",
    "Let's do this execute the above with Python and let's see some results "
   ]
  },
  {
   "cell_type": "code",
   "execution_count": null,
   "metadata": {},
   "outputs": [],
   "source": [
    "# To view the Table's rows, we can execute following SQL query\n",
    "select_countries = \"\"\"\n",
    "SELECT * FROM countries;\n",
    "\"\"\"\n",
    "\n",
    "country_header, country_rows =  get_header_rows(select_countries)\n",
    "\n",
    "pp.pprint(country_header)\n",
    "pp.pprint(country_rows)\n",
    "pp.pprint(\"*\"*50)\n",
    "pp.pprint(\"Note: we extracted the header and the country rows into separate variables but in SQL these are mapped like below:\")\n",
    "pp.pprint(\"*\"*50)\n",
    "pp.pprint([dict(zip(country_header, row)) for row in country_rows])"
   ]
  },
  {
   "cell_type": "markdown",
   "metadata": {},
   "source": [
    "### Side Notes on SQLAlchemy Metadata, Table objects\n",
    "\n",
    "There is an alternative method, and probably more Pythonic, to run sql statements using SQLAlchemy.\n",
    "\n",
    "For example we can __select__ all countries by using SQLAlchemy's Table and Metadata objects like in the example below. This gives the same results. \n",
    "\n",
    "You can read more in here: https://www.sqlalchemy.org/"
   ]
  },
  {
   "cell_type": "code",
   "execution_count": null,
   "metadata": {},
   "outputs": [],
   "source": [
    "metadata = sqlalchemy.MetaData()\n",
    "countries = sqlalchemy.Table('countries', metadata, autoload=True, autoload_with=engine)\n",
    "\n",
    "query = sqlalchemy.select([countries])\n",
    "\n",
    "with engine.connect() as connection:\n",
    "\n",
    "    ResultProxy = connection.execute(query)\n",
    "    countries_results_2 = ResultProxy.fetchall()\n",
    "\n",
    "countries_results_2"
   ]
  },
  {
   "cell_type": "markdown",
   "metadata": {},
   "source": [
    "### DELETE FROM table\n",
    "\n",
    "We introduced a mistake and added Atlantida as country. Let's remove the row by using `DELETE` clause and referencing its specific `country_code` by using `WHERE` statement:\n",
    "\n",
    "    DELETE \n",
    "    FROM countries\n",
    "    WHERE country_code = 'AT';\n",
    "\n",
    "Then let's use `select` to see the result:"
   ]
  },
  {
   "cell_type": "code",
   "execution_count": null,
   "metadata": {},
   "outputs": [],
   "source": [
    "delete_atlantida = \"\"\"\n",
    "DELETE \n",
    "FROM countries\n",
    "WHERE country_code = 'AT';\n",
    "\"\"\"\n",
    "\n",
    "execute_sql_statement(delete_atlantida)\n",
    "\n",
    "select_countries = \"\"\"\n",
    "SELECT * \n",
    "FROM countries;\n",
    "\"\"\"\n",
    "\n",
    "country_header, country_rows =  get_header_rows(select_countries)\n",
    "\n",
    "print(country_header)\n",
    "pp.pprint(country_rows)"
   ]
  },
  {
   "cell_type": "markdown",
   "metadata": {},
   "source": [
    "### ALTER table\n",
    "\n",
    "Let's also modify, sql speaking `ALTER TABLE`, a column `currency_code`. It doesn't really belong in here so we want to remove it, `DROP COLUMN`. To do that we run:\n",
    "\n",
    "    ALTER TABLE countries DROP COLUMN IF EXISTS currency_code;\n",
    "\n",
    "The statement will instruct SQL server to remove mapping between `currency_code` column and data rows."
   ]
  },
  {
   "cell_type": "code",
   "execution_count": null,
   "metadata": {},
   "outputs": [],
   "source": [
    "delete_currency_col = \"ALTER TABLE countries DROP COLUMN  IF EXISTS  currency_code;\"\n",
    "\n",
    "execute_sql_statement(delete_currency_col)\n",
    "    \n",
    "    \n",
    "select_countries = \"\"\"\n",
    "SELECT * \n",
    "FROM countries;\n",
    "\"\"\"\n",
    "country_header, country_rows =  get_header_rows(select_countries)\n",
    "\n",
    "print(country_header)\n",
    "pp.pprint(country_rows)"
   ]
  },
  {
   "cell_type": "markdown",
   "metadata": {},
   "source": [
    "### Adding and populating more tables - currency\n",
    "\n",
    "Let's add another table called `currency` with following schema and populate it with some data:\n",
    "\n",
    "    DROP TABLE IF EXISTS currency;\n",
    "\n",
    "    CREATE TABLE currency (\n",
    "        currency_code char(3) PRIMARY KEY,\n",
    "        country_code char(2) REFERENCES countries (country_code),\n",
    "        currency_desc varchar(45)\n",
    "    );\n",
    "\n",
    "Note that I used `REFERENCES` noun that tells SQL to lookup `country_code` in `countries` table. "
   ]
  },
  {
   "cell_type": "code",
   "execution_count": null,
   "metadata": {},
   "outputs": [],
   "source": [
    "add_currency_table = \"\"\"\n",
    "DROP TABLE IF EXISTS currency;\n",
    "\n",
    "CREATE TABLE currency (\n",
    "    currency_code char(3) PRIMARY KEY,\n",
    "    country_code char(2) REFERENCES countries (country_code),\n",
    "    currency_desc varchar(45)\n",
    ");\n",
    "\"\"\"\n",
    "\n",
    "execute_sql_statement(add_currency_table)\n",
    "\n",
    "insert_currency_data = \"\"\"\n",
    "INSERT INTO currency \n",
    "    (currency_code, country_code, currency_desc) \n",
    "VALUES \n",
    "    ('USD', 'US', 'US Dollar'), \n",
    "    ('GBP', 'GB', 'British Pound'), \n",
    "    ('EUR', 'FR', 'Euro'),\n",
    "    ('NGN', 'NG', 'Nigerian Naira'); \n",
    "\"\"\"\n",
    "\n",
    "execute_sql_statement(insert_currency_data)\n",
    "\n",
    "currency_header, currency_rows =  get_header_rows(\"SELECT * FROM currency;\")\n",
    "\n",
    "print(currency_header)\n",
    "pp.pprint(currency_rows)"
   ]
  },
  {
   "cell_type": "markdown",
   "metadata": {},
   "source": [
    "If we try to add new currency that that has got a defined country in `REFERENCE` table we get an error.\n",
    "Why is that? SQL server tries to maintian referential integrity i.e. if reference does not exist, throw an error\n",
    "rather than allow to incorrect data to be inserted"
   ]
  },
  {
   "cell_type": "code",
   "execution_count": null,
   "metadata": {
    "scrolled": true
   },
   "outputs": [],
   "source": [
    "insert_currency_data = \"\"\"\n",
    "INSERT INTO currency \n",
    "    (currency_code, country_code, currency_desc) \n",
    "VALUES \n",
    "    ('ATT', 'AT', 'Atlantida Lyra') \n",
    "\"\"\"\n",
    "\n",
    "execute_sql_statement(insert_currency_data)"
   ]
  },
  {
   "cell_type": "markdown",
   "metadata": {},
   "source": [
    "We can still insert the data with Null reference which in some cases is not a ideal, but we can update the data at some later time."
   ]
  },
  {
   "cell_type": "code",
   "execution_count": null,
   "metadata": {},
   "outputs": [],
   "source": [
    "insert_currency_data_2 = \"\"\"\n",
    "INSERT INTO currency \n",
    "    (currency_code, country_code, currency_desc) \n",
    "VALUES \n",
    "    ('VEB', Null, 'Bolivar') \n",
    "\"\"\"\n",
    "\n",
    "execute_sql_statement(insert_currency_data_2)\n",
    "\n",
    "currency_header, currency_rows =  get_header_rows(\"SELECT * FROM currency\")\n",
    "\n",
    "print(currency_header)\n",
    "pp.pprint(currency_rows)"
   ]
  },
  {
   "cell_type": "markdown",
   "metadata": {},
   "source": [
    "### Table Joins\n",
    "\n",
    "Sometimes we want to make a query and find some common information between tables. This is where SQL databases shine. The power of relational database systems comes from their ability to take two or more tables and combine them in some way to produce a single table.\n",
    "\n",
    "There are several types of join (see <a href=\"https://en.wikipedia.org/wiki/Join_(SQL)\" target=\"_blank\">Join_(SQL)</a> ), `inner join` is one of the simplest examples. In set theory, `inner join` represents an `intersection` of two sets of objects that share some common data attributes in some way. Take this silly diagrammatic example where we have a set of blue and yellow cows, cows with yellow-blue patches belong to this intersection subset:\n",
    "\n",
    "![join set](./inner_join.png)\n",
    "\n",
    "\n",
    "Let's join currency and countries tables. To do this we use `INNER JOIN` clause and we use a `ON countries.country_code = currency.country_code` condition because it is a common column between the tables:\n",
    "\n",
    "    SELECT countries.*, currency_code \n",
    "    FROM countries INNER JOIN currency\n",
    "    ON countries.country_code = currency.country_code\n",
    "\n",
    "The statement will select all columns from countries table and a `currency_code` from currency table and matches the condition. \n",
    "\n",
    "This resulting table is what we originally started with. But now we have two independent tables which gives us more control and avoids too much duplication."
   ]
  },
  {
   "cell_type": "code",
   "execution_count": null,
   "metadata": {},
   "outputs": [],
   "source": [
    "join_example_1 = \"\"\"\n",
    "SELECT countries.*, currency_code \n",
    "FROM countries INNER JOIN currency\n",
    "ON countries.country_code = currency.country_code\n",
    "\"\"\"\n",
    "\n",
    "join_ex1_header, join_ex1_rows =  get_header_rows(join_example_1)\n",
    "\n",
    "print(join_ex1_header)\n",
    "pp.pprint(join_ex1_rows)"
   ]
  },
  {
   "cell_type": "markdown",
   "metadata": {},
   "source": [
    "### Adding more tables - vendors, ecommerce_campaigns \n",
    "\n",
    "Let us create even more tables. Make a note of the schema and various clauses like `CHECK`, `SERIAL`, `DEFAULT` and `NOT NULL` which you can read about more in the documentation."
   ]
  },
  {
   "cell_type": "code",
   "execution_count": null,
   "metadata": {},
   "outputs": [],
   "source": [
    "create_vendors_table = \"\"\"\n",
    "DROP TABLE IF EXISTS vendors;\n",
    "CREATE TABLE vendors (\n",
    "vendor_id SERIAL PRIMARY KEY,\n",
    "name varchar(255),\n",
    "web_url text UNIQUE CHECK (web_url <> ''),\n",
    "type char(7) CHECK (type in ('public', 'private') ) DEFAULT 'public',\n",
    "country_code char(2) REFERENCES countries (country_code) NOT NULL,\n",
    "operating_currency char(3) REFERENCES currency (currency_code) NOT NULL\n",
    ")\n",
    "\"\"\"\n",
    "execute_sql_statement(create_vendors_table)"
   ]
  },
  {
   "cell_type": "code",
   "execution_count": null,
   "metadata": {},
   "outputs": [],
   "source": [
    "# Now check if we have 3 tables countries, currency, vendors\n",
    "engine.table_names()"
   ]
  },
  {
   "cell_type": "code",
   "execution_count": null,
   "metadata": {},
   "outputs": [],
   "source": [
    "create_vendor_data = \"\"\"\n",
    "INSERT INTO vendors (name, web_url, type, country_code, operating_currency) \n",
    "VALUES (\n",
    "'Puppy world', 'https://puppy-world.eu', 'public', 'FR', 'EUR'\n",
    "),\n",
    "('Sporty socks', 'https://sporty-socks.co.uk', 'public', 'GB', 'GBP')\n",
    "\"\"\"\n",
    "\n",
    "execute_sql_statement(create_vendor_data)"
   ]
  },
  {
   "cell_type": "code",
   "execution_count": null,
   "metadata": {},
   "outputs": [],
   "source": [
    "# let's inspect vendor data\n",
    "vendors_header, vendors_rows =  get_header_rows(\"SELECT * FROM vendors;\")\n",
    "\n",
    "print(vendors_header)\n",
    "pp.pprint(vendors_rows)"
   ]
  },
  {
   "cell_type": "code",
   "execution_count": null,
   "metadata": {
    "scrolled": true
   },
   "outputs": [],
   "source": [
    "# create campaign table\n",
    "create_ecommerce_campaigns_table = \"\"\"\n",
    "DROP TABLE IF EXISTS ecommerce_campaigns;\n",
    "CREATE TABLE ecommerce_campaigns (\n",
    "    title varchar(255) CHECK (title <> ''),\n",
    "    starts_at DATE NOT NULL,\n",
    "    ends_at DATE CHECK (ends_at > starts_at),\n",
    "    vendor_id int REFERENCES vendors (vendor_id)\n",
    ")\n",
    "\"\"\"\n",
    "\n",
    "execute_sql_statement(create_ecommerce_campaigns_table)\n",
    "\n",
    "# add campaign data\n",
    "create_campaign_data = \"\"\"\n",
    "INSERT INTO ecommerce_campaigns (title, starts_at, ends_at, vendor_id) \n",
    "VALUES\n",
    "    ('Happy Puppy Ads', '2020-03-01', '2020-05-13', 1) ,\n",
    "    ('New Soles Ads', '2020-01-01', '2020-01-31', 2),\n",
    "    ('Trendy Spring Jackets Ads', '2020-03-20', '2020-04-28', Null)\n",
    "\"\"\"\n",
    "\n",
    "execute_sql_statement(create_campaign_data)\n",
    "\n",
    "ecommerce__header, ecommerce_campaings_rows =  get_header_rows(\"SELECT * FROM ecommerce_campaigns;\")\n",
    "\n",
    "print(ecommerce__header)\n",
    "pp.pprint(ecommerce_campaings_rows)"
   ]
  },
  {
   "cell_type": "markdown",
   "metadata": {},
   "source": [
    "### Outer Join and Aliases\n",
    "\n",
    "We want to list all ecommerce campaigns and check if any have an assigned online vendor or not. To do this we will use `LEFT OUTER JOIN` (you could use `LEFT JOIN` clause as well but let's be explicit for the sake of this demo).\n",
    "\n",
    "Diagramatically we can represent the left outer join as a set with objects from the left set of objects that also includes intersecting objects. Note that any objects that don't match `ON` conditions will have `Null` values as a result.\n",
    "\n",
    "![left outer join](outer_join.png)\n",
    "\n",
    "\n",
    "\n",
    "We can also use `aliases` to make columns names more user friendly and tables names less verbose. To make use of an alias we can use `AS` clause. It is optional and we can omit it. I like keeping them in my queries but you might see queries without them.  \n",
    "\n",
    "    SELECT \n",
    "        ec.title AS \"Campaign Name\", \n",
    "        ec.starts_at AS \"Start Date\", \n",
    "        ec.ends_at AS \"End Date\", \n",
    "        v.name AS \"Signed Vendor\" \n",
    "    FROM \n",
    "        ecommerce_campaigns AS ec \n",
    "    LEFT OUTER JOIN  vendors AS v\n",
    "    ON \n",
    "        ec.vendor_id = v.vendor_id\n"
   ]
  },
  {
   "cell_type": "code",
   "execution_count": null,
   "metadata": {},
   "outputs": [],
   "source": [
    "left_outer_join = \"\"\"\n",
    "SELECT \n",
    "    ec.title AS \"Campaign Name\", \n",
    "    ec.starts_at AS \"Start Date\", \n",
    "    ec.ends_at AS \"End Date\", \n",
    "    v.name AS \"Signed Vendor\" \n",
    "FROM \n",
    "    ecommerce_campaigns AS ec \n",
    "LEFT OUTER JOIN  vendors AS v\n",
    "ON \n",
    "    ec.vendor_id = v.vendor_id\n",
    "\"\"\"\n",
    "\n",
    "left_join_header, left_join_results =  get_header_rows(left_outer_join)\n",
    "\n",
    "print(left_join_header)\n",
    "pp.pprint(left_join_results)"
   ]
  },
  {
   "cell_type": "markdown",
   "metadata": {},
   "source": [
    "#####  References\n",
    "\n",
    "Image sources:\n",
    "\n",
    "https://www.iflscience.com/plants-and-animals/millions-of-americans-think-chocolate-milk-comes-from-brown-cows/\n",
    "\n",
    "https://www.afar.com/places/mysore-karnataka-mysore\n",
    "\n",
    "https://www.waymarking.com/waymarks/WMQ7FV_Yellow_Cows_Bad_Imnau_Germany_BW"
   ]
  }
 ],
 "metadata": {
  "kernelspec": {
   "display_name": "Python 3",
   "language": "python",
   "name": "python3"
  },
  "language_info": {
   "codemirror_mode": {
    "name": "ipython",
    "version": 3
   },
   "file_extension": ".py",
   "mimetype": "text/x-python",
   "name": "python",
   "nbconvert_exporter": "python",
   "pygments_lexer": "ipython3",
   "version": "3.7.7"
  }
 },
 "nbformat": 4,
 "nbformat_minor": 4
}
