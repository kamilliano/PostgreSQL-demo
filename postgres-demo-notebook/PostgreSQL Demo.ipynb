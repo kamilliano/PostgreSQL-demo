{
 "cells": [
  {
   "cell_type": "markdown",
   "metadata": {},
   "source": [
    "## database connection"
   ]
  },
  {
   "cell_type": "code",
   "execution_count": 3,
   "metadata": {},
   "outputs": [],
   "source": [
    "import os\n",
    "import sqlalchemy"
   ]
  },
  {
   "cell_type": "code",
   "execution_count": 5,
   "metadata": {},
   "outputs": [],
   "source": [
    "\n",
    "# get settings from env variables that were passed around from makefile to docker-compose\n",
    "SQL_PORT=os.environ['POSTGRES_PORT']\n",
    "SQL_DB=os.environ['POSTGRES_DB']\n",
    "SQL_USER=os.environ['POSTGRES_USER'] \n",
    "SQL_PASSWORD=os.environ['POSTGRES_PASSWORD']\n",
    "SQL_SERVICE_NAME='postgres'\n",
    "\n",
    "# create an engine that will allow us to communicate with PostgresSQL\n",
    "from sqlalchemy import create_engine\n",
    "engine = create_engine(f'postgresql+psycopg2://{SQL_USER}:{SQL_PASSWORD}@{SQL_SERVICE_NAME}/{SQL_DB}')"
   ]
  },
  {
   "cell_type": "code",
   "execution_count": 7,
   "metadata": {},
   "outputs": [],
   "source": [
    "\n",
    "# just to make sure we start with clean slate i.e. not tables are \n",
    "assert not engine.table_names()"
   ]
  },
  {
   "cell_type": "code",
   "execution_count": null,
   "metadata": {},
   "outputs": [],
   "source": []
  }
 ],
 "metadata": {
  "kernelspec": {
   "display_name": "Python 3",
   "language": "python",
   "name": "python3"
  },
  "language_info": {
   "codemirror_mode": {
    "name": "ipython",
    "version": 3
   },
   "file_extension": ".py",
   "mimetype": "text/x-python",
   "name": "python",
   "nbconvert_exporter": "python",
   "pygments_lexer": "ipython3",
   "version": "3.7.7"
  }
 },
 "nbformat": 4,
 "nbformat_minor": 4
}
